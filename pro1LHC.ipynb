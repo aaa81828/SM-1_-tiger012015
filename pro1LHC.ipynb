{
 "cells": [
  {
   "cell_type": "markdown",
   "metadata": {},
   "source": [
    "# Problem 1: One die with S sides\n",
    "## Name: Hsiao-Chin Liu               ID: 106022555\n"
   ]
  },
  {
   "cell_type": "markdown",
   "metadata": {},
   "source": [
    "Suppose we have a die with S sides, where S is an integer, but not necessarily equal to 6. The set of possible outcomes is then {n|n = 1,...,S} (or {n|n = 0,...,S−1}, your choice). Assume that all sides of the die are equally probable, so that P(n) = 1/S. Since this is partly a computational problem, be sure to support your answers with data from your computer simulations.\n"
   ]
  },
  {
   "cell_type": "markdown",
   "metadata": {},
   "source": [
    "## 1.What are the theoretical values of the mean, variance, and standard deviation as functions of S? The answers should be in closed form, rather than expressed as a sum (Hint: It might be helpful to review the formulas for the sums of integers and squares of integers.)"
   ]
  },
  {
   "cell_type": "markdown",
   "metadata": {},
   "source": [
    "mean : $\\langle s\\rangle = \\frac{(s+1)}{2}$ <br>\n",
    "\n",
    "variance : $\\sigma^2 = \\frac{(s-1)(s+1)}{12}$ <br>  \n",
    "\n",
    "standard deviation : $\\sigma = \\sqrt{\\frac{(s-1)(s+1)}{12}}$\n"
   ]
  },
  {
   "cell_type": "markdown",
   "metadata": {},
   "source": [
    "## 2.Modify the program you used for an earlier problem to simulate rolling a die with S sides, and print out the mean, variance, and standard deviation for a number of trials. Have the program print out the theoretical predictions in each case, as well as the deviations from theory to facilitate comparisons."
   ]
  },
  {
   "cell_type": "code",
   "execution_count": null,
   "metadata": {},
   "outputs": [],
   "source": [
    "import random\n",
    "import time\n",
    "\n",
    "def onediceS(numbers, sides):\n",
    "    t1=time.clock()\n",
    "    print(\"====================\")\n",
    "    print(\"Number of sides = \", sides)\n",
    "    print(\"Number of roll dice = \", numbers)\n",
    "\n",
    "    histogram = []\n",
    "    for s in range(sides):\n",
    "        histogram.append(0)\n",
    "    print(histogram)\n",
    "\n",
    "    r = 0\n",
    "    for t in range(numbers):\n",
    "    \n",
    "        r = int(random.random()*sides)\n",
    "        histogram[r] = histogram[r] + 1\n",
    "    print( histogram)\n",
    "    \n",
    "    #theoretical prediction\n",
    "    mean=0\n",
    "    meansquare = 0 \n",
    "    #meansquare=the square of the mean\n",
    "    for k in range(sides):\n",
    "        mean = (k+1) * 1/sides + mean\n",
    "        meansquare = (k+1) **2 * 1/sides + meansquare\n",
    "        \n",
    "        \n",
    "    var = meansquare - mean ** 2\n",
    "    sta = var ** 0.5\n",
    "    #var=variance, sta=standard      \n",
    "    print(\"s, N_s, N_s-N/sides, N_s/N, N_s/N-1/sides\")\n",
    "    \n",
    "    sum = 0\n",
    "    sumsquare = 0\n",
    "    for s in range(sides):\n",
    "        print(s+1, histogram[s], histogram[s]-numbers/sides, histogram[s]/numbers, histogram[s]/numbers-1/sides)\n",
    "        one = (s+1)* histogram[s]\n",
    "        sum = one + sum\n",
    "        onesquare = (s+1) ** 2 * histogram[s]\n",
    "        sumsquare = onesquare + sumsquare\n",
    "        \n",
    "    ex_mean = sum/numbers\n",
    "    ex_var = sumsquare/numbers-ex_mean*ex_mean\n",
    "    ex_sta = ex_var**0.5\n",
    "    #ex_mean=eaperimentally mean, and so on ex_var,ex_sta\n",
    "    \n",
    "    print(\"Theoretically \",\"mean =\", mean, \"variance =\", var, \"standard =\",sta )  \n",
    "    print(\"Experimentally \" , \"mean =\", ex_mean, \"variance =\", ex_var, \"standard =\",ex_sta )\n",
    "    print(\"experimental error :\",\"mean error = \",abs(1-ex_mean/mean)*100,\"%\" ,\"standard error = \",abs(1-ex_sta/sta)*100,\"%\")\n",
    "    t2=time.clock()\n",
    "    print(\"run time =\", t2-t1)\n",
    "\n",
    "\n",
    "onediceS(1, 7)\n",
    "onediceS(10, 7)\n",
    "onediceS(100, 7)\n",
    "onediceS(1000, 7)\n",
    "onediceS(10000, 7)\n",
    "onediceS(100000, 7)\n",
    "onediceS(1000000, 7)\n"
   ]
  },
  {
   "cell_type": "markdown",
   "metadata": {},
   "source": [
    "## 3.Run your program for two different values of S. Are the results for the mean, variance, and standard deviation consistent with your predictions? (Do not use such long runs that the program takes more than about a second to run. It would be a waste of your time to wait for the program to finish.)"
   ]
  },
  {
   "cell_type": "markdown",
   "metadata": {},
   "source": [
    "If S=7,Number of roll dice =  1000000\n",
    "\n",
    "Theoretically  mean = 4.0 ;\n",
    "variance = 4.0 standard = 2.0;\n",
    "Experimentally  mean = 3.999464 ;\n",
    "variance = 4.001341712703997; \n",
    "standard = 2.0003354000527005;\n",
    "\n",
    "If S=12,Number of roll dice =  1000000\n",
    "\n",
    "Theoretically  mean = 6.5; \n",
    "variance = 11.916666666666671 ;\n",
    "standard = 3.452052529534664;\n",
    "Experimentally  mean = 6.497708 ;\n",
    "variance = 11.928914746735998; \n",
    "standard = 3.4538261025616213;\n"
   ]
  },
  {
   "cell_type": "markdown",
   "metadata": {},
   "source": [
    "## 4.Experiment with different numbers of trials. How many trials do you need to obtain a rough estimate for the values of the mean and standard deviation? How many trials do you need to obtain an error of less than 1%? Do you need the same number of trials to obtain 1% accuracy for the mean and standard deviation."
   ]
  },
  {
   "cell_type": "code",
   "execution_count": null,
   "metadata": {},
   "outputs": [],
   "source": []
  }
 ],
 "metadata": {
  "kernelspec": {
   "display_name": "Python 3",
   "language": "python",
   "name": "python3"
  },
  "language_info": {
   "codemirror_mode": {
    "name": "ipython",
    "version": 3
   },
   "file_extension": ".py",
   "mimetype": "text/x-python",
   "name": "python",
   "nbconvert_exporter": "python",
   "pygments_lexer": "ipython3",
   "version": "3.6.4"
  }
 },
 "nbformat": 4,
 "nbformat_minor": 2
}
